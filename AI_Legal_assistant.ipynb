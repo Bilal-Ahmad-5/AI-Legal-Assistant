{
  "cells": [
    {
      "cell_type": "markdown",
      "metadata": {
        "id": "view-in-github",
        "colab_type": "text"
      },
      "source": [
        "<a href=\"https://colab.research.google.com/github/Bilal-Ahmad-5/AI-Legal-Assistant/blob/main/AI_Legal_assistant.ipynb\" target=\"_parent\"><img src=\"https://colab.research.google.com/assets/colab-badge.svg\" alt=\"Open In Colab\"/></a>"
      ]
    },
    {
      "cell_type": "code",
      "execution_count": null,
      "metadata": {
        "colab": {
          "base_uri": "https://localhost:8080/"
        },
        "collapsed": true,
        "id": "yeNkHY0XCLFF",
        "outputId": "16984a09-b82d-483d-c251-8ceabd59be25"
      },
      "outputs": [
        {
          "output_type": "stream",
          "name": "stdout",
          "text": [
            "\u001b[31mERROR: pip's dependency resolver does not currently take into account all the packages that are installed. This behaviour is the source of the following dependency conflicts.\n",
            "taipy-gui 4.1.0 requires python-dotenv<=1.0.1,>=1.0.0, but you have python-dotenv 1.1.1 which is incompatible.\u001b[0m\u001b[31m\n",
            "\u001b[2K     \u001b[90m━━━━━━━━━━━━━━━━━━━━━━━━━━━━━━━━━━━━━━━━\u001b[0m \u001b[32m43.7/43.7 kB\u001b[0m \u001b[31m2.1 MB/s\u001b[0m eta \u001b[36m0:00:00\u001b[0m\n",
            "\u001b[2K   \u001b[90m━━━━━━━━━━━━━━━━━━━━━━━━━━━━━━━━━━━━━━━━\u001b[0m \u001b[32m143.7/143.7 kB\u001b[0m \u001b[31m2.6 MB/s\u001b[0m eta \u001b[36m0:00:00\u001b[0m\n",
            "\u001b[2K   \u001b[90m━━━━━━━━━━━━━━━━━━━━━━━━━━━━━━━━━━━━━━━━\u001b[0m \u001b[32m43.8/43.8 kB\u001b[0m \u001b[31m2.1 MB/s\u001b[0m eta \u001b[36m0:00:00\u001b[0m\n",
            "\u001b[2K   \u001b[90m━━━━━━━━━━━━━━━━━━━━━━━━━━━━━━━━━━━━━━━━\u001b[0m \u001b[32m50.1/50.1 kB\u001b[0m \u001b[31m3.4 MB/s\u001b[0m eta \u001b[36m0:00:00\u001b[0m\n",
            "\u001b[2K   \u001b[90m━━━━━━━━━━━━━━━━━━━━━━━━━━━━━━━━━━━━━━━━\u001b[0m \u001b[32m216.5/216.5 kB\u001b[0m \u001b[31m13.2 MB/s\u001b[0m eta \u001b[36m0:00:00\u001b[0m\n",
            "\u001b[?25h"
          ]
        }
      ],
      "source": [
        "!pip install -qU  langchain langchain_core huggingface_hub kagglehub chromadb langchain-groq\n",
        "!pip install -qU  langchain langchain_community langchain_huggingface langchain-chroma taipy\n",
        "!pip install -qU  pinecone langchain_pinecone langserve fastapi uvicorn sse_starlette python-dotenv jq\n",
        "!pip install -qU  chromadb gradio pypdf tiktoken sentence_transformers langgraph\n",
        "!pip install -qU \"langchain-chroma>=0.1.2\""
      ]
    },
    {
      "cell_type": "code",
      "execution_count": null,
      "metadata": {
        "colab": {
          "base_uri": "https://localhost:8080/"
        },
        "id": "Akl1mI5ztuwS",
        "outputId": "48c64896-a235-4330-eb92-f82de287c9ec"
      },
      "outputs": [
        {
          "output_type": "stream",
          "name": "stdout",
          "text": [
            "Path to dataset files: /kaggle/input/united-states-code\n",
            "Files in dataset directory: ['schemaandcss', 'USLM-User-Guide.pdf', 'US_Code_2017.json']\n",
            "Full paths to dataset files: ['/kaggle/input/united-states-code/schemaandcss', '/kaggle/input/united-states-code/USLM-User-Guide.pdf', '/kaggle/input/united-states-code/US_Code_2017.json']\n"
          ]
        }
      ],
      "source": [
        "import kagglehub\n",
        "import os\n",
        "\n",
        "# Download latest version\n",
        "path = kagglehub.dataset_download(\"us-gpo/united-states-code\")\n",
        "\n",
        "print(\"Path to dataset files:\", path)\n",
        "\n",
        "# Look at the downloaded files\n",
        "files = os.listdir(path)\n",
        "print(\"Files in dataset directory:\", files)\n",
        "\n",
        "\n",
        "file_paths = [os.path.join(path, file) for file in files]\n",
        "print(\"Full paths to dataset files:\", file_paths)"
      ]
    },
    {
      "cell_type": "code",
      "execution_count": null,
      "metadata": {
        "id": "D4vREXh7rfLo"
      },
      "outputs": [],
      "source": [
        "from langchain_community.document_loaders import JSONLoader, CSVLoader, PyPDFLoader\n",
        "\n",
        "def data_loader(file_paths):\n",
        "    all_documents = []\n",
        "    for file_path in file_paths:\n",
        "        if file_path.endswith('.csv'):\n",
        "            loader = CSVLoader(file_path)\n",
        "        elif file_path.endswith('.json'):\n",
        "            loader = JSONLoader(file_path, jq_schema='.', text_content=False)\n",
        "        elif file_path.endswith('.pdf'):\n",
        "            loader = PyPDFLoader(file_path)\n",
        "        else:\n",
        "            print(f\"Unsupported file type: {file_path}\")\n",
        "            continue\n",
        "        all_documents.extend(loader.load())\n",
        "    return all_documents"
      ]
    },
    {
      "cell_type": "code",
      "execution_count": null,
      "metadata": {
        "id": "oJ5cA7m0rccd"
      },
      "outputs": [],
      "source": [
        "from langchain.text_splitter import CharacterTextSplitter, RecursiveCharacterTextSplitter\n",
        "\n",
        "# Data Splitter\n",
        "chunk_size = 500\n",
        "chunk_overlap = 50\n",
        "\n",
        "def text_splitter(data):\n",
        "  text_splitter = RecursiveCharacterTextSplitter(\n",
        "      chunk_size=chunk_size,\n",
        "      chunk_overlap=chunk_overlap\n",
        "    )\n",
        "  split_text = text_splitter.split_documents(data)\n",
        "  return split_text"
      ]
    },
    {
      "cell_type": "code",
      "execution_count": null,
      "metadata": {
        "id": "nxXZpl4vraCA"
      },
      "outputs": [],
      "source": [
        "## Vector db\n",
        "from langchain_chroma import Chroma\n",
        "from langchain.embeddings import HuggingFaceEmbeddings\n",
        "from langchain.docstore.document import Document\n",
        "\n",
        "def vector_database(chunks):\n",
        "    embedding_model = HuggingFaceEmbeddings(model_name=\"BAAI/bge-small-en-v1.5\")\n",
        "\n",
        "    vector_store = Chroma(\n",
        "        collection_name=\"example_collection\",\n",
        "        embedding_function=embedding_model,\n",
        "    )\n",
        "    # Add documents to vector store\n",
        "    vector_store.add_documents(chunks)\n",
        "    return vector_store"
      ]
    },
    {
      "cell_type": "code",
      "execution_count": null,
      "metadata": {
        "colab": {
          "base_uri": "https://localhost:8080/"
        },
        "id": "pEz9LIgWrWNr",
        "outputId": "b85aff8a-d3ac-4a8a-8361-f592915536fd"
      },
      "outputs": [
        {
          "output_type": "stream",
          "name": "stdout",
          "text": [
            "Unsupported file type: /kaggle/input/united-states-code/schemaandcss\n"
          ]
        },
        {
          "output_type": "stream",
          "name": "stderr",
          "text": [
            "ERROR:chromadb.telemetry.product.posthog:Failed to send telemetry event ClientStartEvent: capture() takes 1 positional argument but 3 were given\n",
            "ERROR:chromadb.telemetry.product.posthog:Failed to send telemetry event ClientCreateCollectionEvent: capture() takes 1 positional argument but 3 were given\n"
          ]
        }
      ],
      "source": [
        "## Retriever\n",
        "def retriever(file):\n",
        "    splits = data_loader(file)\n",
        "    chunks = text_splitter(splits)\n",
        "    vectordb = vector_database(chunks)\n",
        "    retriever = vectordb.as_retriever()\n",
        "    return retriever\n",
        "\n",
        "Retriever = retriever(file_paths)"
      ]
    },
    {
      "cell_type": "code",
      "execution_count": null,
      "metadata": {
        "id": "ybRKRBJ_UHPo"
      },
      "outputs": [],
      "source": [
        "from langchain_community.tools import TavilySearchResults\n",
        "from langchain.tools.retriever import create_retriever_tool\n",
        "from langchain_core.prompts import ChatPromptTemplate, MessagesPlaceholder\n",
        "from langchain_groq import ChatGroq\n",
        "from google.colab import userdata\n",
        "import os\n",
        "\n",
        "os.environ[\"TAVILY_API_KEY\"] = userdata.get(\"tavily_api_key\")\n",
        "api = userdata.get(\"langchai_api_key\")\n",
        "os.environ[\"LANGCHAIN_API_KEY\"] = api\n",
        "os.environ[\"GROQ_API_KEY\"] = userdata.get('groq_api_key')\n",
        "\n",
        "\n",
        "llm = ChatGroq(\n",
        "    model=\"deepseek-r1-distill-llama-70b\",\n",
        "    temperature=0,\n",
        "    max_tokens=None,\n",
        "    reasoning_format=\"parsed\",\n",
        "    timeout=None,\n",
        "    max_retries=2,\n",
        "    # other params...\n",
        ")\n",
        "\n",
        "system_prompt = (\n",
        "        \"You are an AI Legal Assistant which is trained on US Law Data\"\n",
        "        \"Help people and Professional Lawyers to learn and acknowledge\"\n",
        "        \"Use the following context to answer the question. \"\n",
        "        \"If you don't know the answer, say you don't know. \"\n",
        "        \"Always say 'thanks for asking!' at the end of the answer. \"\n",
        "        \"If the question is not related to the context, politely respond that you are tuned to only answer questions that are related to the context. \"\n",
        "        \"\\n\\n{context}\"\n",
        "    )\n",
        "prompt = ChatPromptTemplate.from_messages(\n",
        "    [\n",
        "            (\"system\", system_prompt),\n",
        "            (\"human\", \"{question}\"),\n",
        "    ]\n",
        ")\n",
        "\n",
        "tool_prompt = ChatPromptTemplate.from_messages([\n",
        "    (\"system\", \"You are a web ressearch, search on internet what user ask.\"),\n",
        "    (\"user\", \"{query}\"),\n",
        "])\n",
        "\n",
        "tavily = TavilySearchResults()\n",
        "retriever_tool = create_retriever_tool(Retriever , \"retriever_tool\" , \"You are an Agent tools that is responsible for getting relevant documents from the database \")\n"
      ]
    },
    {
      "cell_type": "code",
      "source": [
        "retriever_tool.invoke(\"what sis US law about rape?\")"
      ],
      "metadata": {
        "colab": {
          "base_uri": "https://localhost:8080/",
          "height": 157
        },
        "id": "4OtS5jblmaNn",
        "outputId": "8ef1a0e1-46dd-47d3-da2f-d219ae0c6907"
      },
      "execution_count": null,
      "outputs": [
        {
          "output_type": "stream",
          "name": "stderr",
          "text": [
            "ERROR:chromadb.telemetry.product.posthog:Failed to send telemetry event CollectionQueryEvent: capture() takes 1 positional argument but 3 were given\n"
          ]
        },
        {
          "output_type": "execute_result",
          "data": {
            "text/plain": [
              "'United States Legislative Model (USLM)  User Guide \\n7 \\n \\nIn all courts, tribunals, and public offices of the United States, at home or abroad, of the \\nDistrict of Columbia, and of each State, Territory, or insular possession of the United \\nStates[,t]he matter set forth in the edition of the Code of Laws of the United States \\ncurrent at any time shall, together with the then current supplement, if any, establish\\n\\n4.2 ANOMALOUS STRUCTURES  \\nTwo issues drive the wide variety of legislative structures found in the United States Code. \\nFirst, the United States Code contains Federal law enacted over a period of centuries, and legislative \\ndrafting styles evolve over time. To handle this issue, the data is converted using the XML schema \\nsubclassing mechanism. \\nSecond, some Federal statutes contain features that do not conform to any commonly accepted drafting\\n\\nUnited States Legislative Model (USLM)  User Guide \\n6 \\n \\n1 BRIEF INTRODUCTION TO THE UNITED STATES CODE \\nThe schema described in this User Guide is used to produce the United States Code in XML. The United \\nStates Code contains the general and permanent laws of the United States, organized into titles based \\non subject matter. \\nThe United States Code is prepared and published by the Office of the Law Revision Counsel of the U.S.\\n\\nprima facie the laws of the United States, general and permanent in their nature, in \\nforce on the day preceding the commencement of the session following the last session \\nthe legislation of which is included: Provided, however, That whenever titles of such \\nCode shall have been enacted into positive law the text thereof shall be legal evidence \\nof the laws therein contained, in all the courts of the United States, the several States,'"
            ],
            "application/vnd.google.colaboratory.intrinsic+json": {
              "type": "string"
            }
          },
          "metadata": {},
          "execution_count": 25
        }
      ]
    },
    {
      "cell_type": "code",
      "source": [
        "# Import relevant functionality\n",
        "from langchain.chat_models import init_chat_model\n",
        "from langgraph.checkpoint.memory import MemorySaver\n",
        "from langgraph.prebuilt import create_react_agent\n",
        "\n",
        "# Create the agent\n",
        "memory = MemorySaver()\n",
        "\n",
        "\n",
        "tools = [retriever_tool, tavily]\n",
        "agent_executor = create_react_agent(llm, tools, checkpointer=memory)"
      ],
      "metadata": {
        "id": "VwRl95oPp7PQ"
      },
      "execution_count": 54,
      "outputs": []
    },
    {
      "cell_type": "code",
      "source": [
        "# Run the agent\n",
        "config = {\"configurable\": {\"thread_id\": \"abc123\"}}\n",
        "\n",
        "# Define the file path (this would come from user input in a real application)\n",
        "# For demonstration, let's set it to a variable that can be None\n",
        "user_provided_file_path = \"/content/USLM-User-Guide.pdf\" # Set to None to simulate no file\n",
        "\n",
        "file_text = \"\"\n",
        "if user_provided_file_path:\n",
        "    try:\n",
        "        # Use PyPDFLoader for PDF files\n",
        "        from langchain_community.document_loaders import PyPDFLoader\n",
        "        loader = PyPDFLoader(user_provided_file_path)\n",
        "        file_content = loader.load()\n",
        "        # Assuming you want to use the text content from the loaded documents\n",
        "        file_text = \" \".join([doc.page_content for doc in file_content])\n",
        "        print(f\"Loaded content from {user_provided_file_path}\")\n",
        "\n",
        "    except Exception as e:\n",
        "        file_text = f\"Could not load file: {e}\"\n",
        "        print(file_text)\n",
        "\n",
        "# Construct the input message\n",
        "query_text = \"what is us law for bullying?\"\n",
        "if file_text and not file_text.startswith(\"Could not load file\"):\n",
        "    input_content = f\"{query_text} Also, consider the information in this document: {file_text}\"\n",
        "else:\n",
        "    input_content = query_text\n",
        "    if file_text.startswith(\"Could not load file\"):\n",
        "        input_content += f\"\\nNote: {file_text}\" # Add error message if file loading failed\n",
        "\n",
        "\n",
        "input_message = {\n",
        "    \"role\": \"user\",\n",
        "    \"content\": input_content,\n",
        "}\n",
        "\n",
        "for step in agent_executor.stream(\n",
        "    {\"messages\": [input_message]}, config, stream_mode=\"values\"\n",
        "):\n",
        "    step[\"messages\"][-1].pretty_print()"
      ],
      "metadata": {
        "colab": {
          "base_uri": "https://localhost:8080/"
        },
        "id": "rz6KWVU3rEUc",
        "outputId": "d9f6b9f5-896b-481c-f272-9e953fce55bc"
      },
      "execution_count": 55,
      "outputs": [
        {
          "output_type": "stream",
          "name": "stdout",
          "text": [
            "Could not load file: File path /content/USLM-User-Guide.pdf is not a valid file or url\n",
            "================================\u001b[1m Human Message \u001b[0m=================================\n",
            "\n",
            "what is us law for bullying?\n",
            "Note: Could not load file: File path /content/USLM-User-Guide.pdf is not a valid file or url\n",
            "==================================\u001b[1m Ai Message \u001b[0m==================================\n",
            "\n",
            "Bullying in the United States is primarily addressed at the state level, with each state having its own anti-bullying laws. There is no single federal law specifically targeting bullying. However, certain federal laws may apply in specific circumstances, such as:\n",
            "\n",
            "1. **Title IX of the Education Amendments of 1972**: Prohibits sex-based discrimination and harassment, including bullying based on sex, in educational institutions receiving federal funding.\n",
            "\n",
            "2. **Individuals with Disabilities Education Act (IDEA)**: Protects students with disabilities from bullying that may constitute discrimination or interfere with their education.\n",
            "\n",
            "3. **Matthew Shepard and James Byrd Jr. Hate Crimes Prevention Act**: Addresses violent crimes motivated by bias, which can include bullying based on race, color, religion, national origin, gender, sexual orientation, or disability.\n",
            "\n",
            "For specific legal protections and policies regarding bullying, you would need to review the laws of the particular state in question.\n"
          ]
        }
      ]
    },
    {
      "cell_type": "code",
      "source": [
        "print(chat)"
      ],
      "metadata": {
        "colab": {
          "base_uri": "https://localhost:8080/"
        },
        "id": "HlYi1LRXtLuS",
        "outputId": "09833087-7de6-4adf-f450-2040cc6ba3b8"
      },
      "execution_count": null,
      "outputs": [
        {
          "output_type": "stream",
          "name": "stdout",
          "text": [
            "what is us law for bullying?\n",
            "Bullying is not a single, specific crime under U.S. federal law, but it can fall under various legal categories depending on the nature of the behavior. In the United States, laws addressing bullying are primarily handled at the **state level**, with most states having specific laws or policies to address bullying in schools and other contexts. Additionally, federal laws may apply in cases where bullying involves **discrimination**, **harassment**, or **cyberbullying**. Below is an overview of how bullying is addressed under U.S. law:\n",
            "\n",
            "---\n",
            "\n",
            "### **Federal Laws Related to Bullying**\n",
            "While there is no single federal law specifically titled \"anti-bullying,\" several federal laws may apply to bullying behavior:\n",
            "\n",
            "1. **Title IX of the Education Amendments of 1972**:\n",
            "   - Applies to schools that receive federal funding.\n",
            "   - Prohibits sex-based discrimination, including sexual harassment and bullying based on gender.\n",
            "   - Schools must investigate and address bullying that creates a hostile educational environment.\n",
            "\n",
            "2. **Section 504 of the Rehabilitation Act of 1973**:\n",
            "   - Protects individuals with disabilities from discrimination, including bullying based on disability.\n",
            "\n",
            "3. **Title VI of the Civil Rights Act of 1964**:\n",
            "   - Prohibits race, color, or national origin-based discrimination, including bullying.\n",
            "\n",
            "4. **The Matthew Shepard and James Byrd Jr. Hate Crimes Prevention Act (2009)**:\n",
            "   - Criminalizes violence or intimidation based on race, color, religion, national origin, gender, sexual orientation, gender identity, or disability.\n",
            "\n",
            "5. **The Telecommunications Act of 1996**:\n",
            "   - Addresses online harassment and cyberbullying through laws like the **Communications Decency Act**.\n",
            "\n",
            "---\n",
            "\n",
            "### **State Laws on Bullying**\n",
            "All 50 states and the District of Columbia have laws or policies addressing bullying, particularly in schools. These laws often include:\n",
            "\n",
            "1. **Definitions of Bullying**:\n",
            "   - Many states define bullying as repeated, intentional behavior that causes harm or fear, including physical, verbal, or emotional abuse.\n",
            "\n",
            "2. **School Policies**:\n",
            "   - Schools are often required to have anti-bullying policies in place.\n",
            "   - Policies may include procedures for reporting, investigating, and addressing bullying incidents.\n",
            "\n",
            "3. **Cyberbullying**:\n",
            "   - Many states have specific laws addressing cyberbullying, which involves using technology (e.g., social media, text messages) to harass or intimidate others.\n",
            "\n",
            "4. **Zero-Tolerance Policies**:\n",
            "   - Some states have zero-tolerance policies for bullying, which may result in suspension or expulsion for students found guilty of bullying.\n",
            "\n",
            "5. **Liability for Schools**:\n",
            "   - Schools can sometimes be held liable if they fail to address bullying that creates a hostile environment for students.\n",
            "\n",
            "---\n",
            "\n",
            "### **Cyberbullying Laws**\n",
            "Cyberbullying is addressed under both state and federal laws. For example:\n",
            "- **The Computer Fraud and Abuse Act (CFAA)**: A federal law that criminalizes unauthorized access to computers and can apply to cyberbullying.\n",
            "- **State Laws**: Many states have enacted laws specifically targeting cyberbullying, such as **\"Rachel's Law\"** or **\"Megan's Law\"**, which impose penalties for online harassment.\n",
            "\n",
            "---\n",
            "\n",
            "### **Consequences for Bullying**\n",
            "The consequences for bullying depend on the severity and context:\n",
            "- **Schools**: Students may face disciplinary action, including suspension or expulsion.\n",
            "- **Criminal Charges**: In severe cases, bullying can lead to criminal charges, such as harassment, assault, or stalking.\n",
            "- **Civil Liability**: Victims may file lawsuits for damages if bullying results in emotional distress or physical harm.\n",
            "\n",
            "---\n",
            "\n",
            "### **How to Report Bullying**\n",
            "- **Schools**: Report incidents to school administrators or counselors.\n",
            "- **Law Enforcement**: If bullying involves threats, violence, or criminal behavior, report it to local law enforcement.\n",
            "- **Federal Agencies**: For bullying related to discrimination, contact the U.S. Department of Education's Office for Civil Rights (OCR).\n",
            "\n",
            "---\n",
            "\n",
            "### **Conclusion**\n",
            "While there is no single \"U.S. law for bullying,\" the behavior is addressed through a combination of federal anti-discrimination laws, state-specific bullying laws, and school policies. If you or someone you know is experiencing bullying, it is important to report it to the appropriate authorities and seek support from legal professionals if necessary.\n",
            "\n"
          ]
        }
      ]
    },
    {
      "cell_type": "markdown",
      "metadata": {
        "id": "e99f9808"
      },
      "source": [
        "# Task\n",
        "Create a user interface for the agent using Gradio."
      ]
    },
    {
      "cell_type": "markdown",
      "metadata": {
        "id": "bfea7433"
      },
      "source": [
        "## Install gradio\n",
        "\n",
        "### Subtask:\n",
        "Install the Gradio library to create the user interface.\n"
      ]
    },
    {
      "cell_type": "markdown",
      "metadata": {
        "id": "c11815d2"
      },
      "source": [
        "**Reasoning**:\n",
        "The subtask is to install the Gradio library. I will use pip to install the package.\n",
        "\n"
      ]
    },
    {
      "cell_type": "code",
      "metadata": {
        "id": "f8e34ed4"
      },
      "source": [
        "def predict_with_file(query: str, file):\n",
        "    \"\"\"\n",
        "    Generates a response from the agent based on the user's query and an optional file.\n",
        "\n",
        "    Args:\n",
        "        query: The user's input query string.\n",
        "        file: The file path if a file is uploaded, or None if no file is uploaded.\n",
        "\n",
        "    Returns:\n",
        "        The content of the agent's response as a string.\n",
        "    \"\"\"\n",
        "    file_text = \"\"\n",
        "    if file is not None:\n",
        "        try:\n",
        "            # Assuming only PDF files are supported for now based on previous code\n",
        "            loader = PyPDFLoader(file)\n",
        "            file_content = loader.load()\n",
        "            file_text = \" \".join([doc.page_content for doc in file_content])\n",
        "            print(f\"Loaded content from {file}\")\n",
        "        except Exception as e:\n",
        "            file_text = f\"Could not load file: {e}\"\n",
        "            print(file_text)\n",
        "\n",
        "    input_content = query\n",
        "    if file_text and not file_text.startswith(\"Could not load file\"):\n",
        "        input_content = f\"{query} Also, consider the information in this document: {file_text}\"\n",
        "    elif file_text.startswith(\"Could not load file\"):\n",
        "        input_content += f\"\\nNote: {file_text}\" # Add error message if file loading failed\n",
        "\n",
        "\n",
        "    input_message = {\n",
        "        \"role\": \"user\",\n",
        "        \"content\": input_content,\n",
        "    }\n",
        "\n",
        "    # Assuming 'agent_executor' and 'config' are defined in the previous cells\n",
        "    response = agent_executor.invoke({\"messages\": [input_message]}, config)\n",
        "    return response[\"messages\"][-1].content"
      ],
      "execution_count": 51,
      "outputs": []
    },
    {
      "cell_type": "code",
      "metadata": {
        "colab": {
          "base_uri": "https://localhost:8080/",
          "height": 680
        },
        "id": "7bed87ce",
        "outputId": "b8c8d359-c9d0-4575-b5a4-b9fc689f4d2d"
      },
      "source": [
        "import gradio as gr\n",
        "\n",
        "# Create the Gradio interface\n",
        "interface = gr.Interface(\n",
        "    fn=predict_with_file,  # Use the prediction function defined earlier\n",
        "    inputs=[\n",
        "        gr.Textbox(label=\"Enter your query\"),\n",
        "        gr.File(label=\"Upload a document (Optional)\")\n",
        "    ],\n",
        "    outputs=gr.Markdown(label=\"Agent Response\"), # Changed output to Markdown\n",
        "    title=\" AI Legal Assistant\",\n",
        "    description=\"Enter your legal query and optionally upload a document for the agent to consider.\"\n",
        ")\n",
        "\n",
        "# Launch the interface\n",
        "interface.launch(debug=True)"
      ],
      "execution_count": 57,
      "outputs": [
        {
          "output_type": "stream",
          "name": "stdout",
          "text": [
            "It looks like you are running Gradio on a hosted Jupyter notebook, which requires `share=True`. Automatically setting `share=True` (you can turn this off by setting `share=False` in `launch()` explicitly).\n",
            "\n",
            "Colab notebook detected. This cell will run indefinitely so that you can see errors and logs. To turn off, set debug=False in launch().\n",
            "* Running on public URL: https://c89e3c4c126ed29d36.gradio.live\n",
            "\n",
            "This share link expires in 1 week. For free permanent hosting and GPU upgrades, run `gradio deploy` from the terminal in the working directory to deploy to Hugging Face Spaces (https://huggingface.co/spaces)\n"
          ]
        },
        {
          "output_type": "display_data",
          "data": {
            "text/plain": [
              "<IPython.core.display.HTML object>"
            ],
            "text/html": [
              "<div><iframe src=\"https://c89e3c4c126ed29d36.gradio.live\" width=\"100%\" height=\"500\" allow=\"autoplay; camera; microphone; clipboard-read; clipboard-write;\" frameborder=\"0\" allowfullscreen></iframe></div>"
            ]
          },
          "metadata": {}
        },
        {
          "output_type": "stream",
          "name": "stdout",
          "text": [
            "Keyboard interruption in main thread... closing server.\n",
            "Killing tunnel 127.0.0.1:7860 <> https://c89e3c4c126ed29d36.gradio.live\n"
          ]
        },
        {
          "output_type": "execute_result",
          "data": {
            "text/plain": []
          },
          "metadata": {},
          "execution_count": 57
        }
      ]
    }
  ],
  "metadata": {
    "colab": {
      "provenance": [],
      "authorship_tag": "ABX9TyOdgmQIdtYdNiayOQCphUGW",
      "include_colab_link": true
    },
    "kernelspec": {
      "display_name": "Python 3",
      "name": "python3"
    },
    "language_info": {
      "name": "python"
    }
  },
  "nbformat": 4,
  "nbformat_minor": 0
}